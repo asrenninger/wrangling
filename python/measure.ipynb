{
 "cells": [
  {
   "cell_type": "code",
   "execution_count": 1,
   "metadata": {},
   "outputs": [],
   "source": [
    "import json\n",
    "import pickle\n",
    "\n",
    "import pandas as pd\n",
    "import geopandas as gpd\n",
    "import numpy as np\n",
    "import networkx as nx\n",
    "import osmnx as ox\n",
    "\n",
    "import scipy.stats as stats\n",
    "import matplotlib.pyplot as plt\n",
    "\n",
    "ox.config(log_console=True)\n",
    "\n",
    "num_bins = 36\n",
    "threshold = 10"
   ]
  },
  {
   "cell_type": "code",
   "execution_count": 2,
   "metadata": {},
   "outputs": [],
   "source": [
    "graphs = pickle.load(open(\"graphs.p\", \"rb\"))"
   ]
  },
  {
   "cell_type": "code",
   "execution_count": 3,
   "metadata": {},
   "outputs": [],
   "source": [
    "def reverse_bearing(x):\n",
    "    return x + 180 if x < 180 else x - 180\n",
    "\n",
    "def get_unweighted_bearings(G, threshold):\n",
    "    # calculate edge bearings\n",
    "    # threshold lets you discard streets < some length from the bearings analysis\n",
    "    b = pd.Series([d['bearing'] for u, v, k, d in G.edges(keys=True, data=True) if d['length'] > threshold])\n",
    "    return pd.concat([b, b.map(reverse_bearing)]).reset_index(drop='True')"
   ]
  },
  {
   "cell_type": "code",
   "execution_count": 4,
   "metadata": {},
   "outputs": [],
   "source": [
    "def count_and_merge(n, bearings):\n",
    "    # make twice as many bins as desired, then merge them in pairs\n",
    "    # prevents bin-edge effects around common values like 0° and 90°\n",
    "    n = n * 2\n",
    "    bins = np.arange(n + 1) * 360 / n\n",
    "    count, _ = np.histogram(bearings, bins=bins)\n",
    "    \n",
    "    # move the last bin to the front, so eg 0.01° and 359.99° will be binned together\n",
    "    count = np.roll(count, 1)\n",
    "    return count[::2] + count[1::2]"
   ]
  },
  {
   "cell_type": "code",
   "execution_count": 5,
   "metadata": {},
   "outputs": [],
   "source": [
    "def calculate_orientation_entropy(data, n):\n",
    "    bin_counts = count_and_merge(n, data)\n",
    "    entropy = stats.entropy(bin_counts)\n",
    "    return entropy"
   ]
  },
  {
   "cell_type": "code",
   "execution_count": 8,
   "metadata": {},
   "outputs": [],
   "source": [
    "def circuity(G, edge_length_total):\n",
    "    \n",
    "    coords = np.array([[G.nodes[u]['y'], G.nodes[u]['x'], G.nodes[v]['y'], G.nodes[v]['x']] for u, v, k in G.edges(keys=True)])\n",
    "    df_coords = pd.DataFrame(coords, columns=['u_y', 'u_x', 'v_y', 'v_x'])\n",
    "\n",
    "    gc_distances = ox.distance.great_circle_vec(lat1=df_coords['u_y'],\n",
    "                                                lng1=df_coords['u_x'],\n",
    "                                                lat2=df_coords['v_y'],\n",
    "                                                lng2=df_coords['v_x'])\n",
    "\n",
    "    gc_distances = gc_distances.fillna(value=0)\n",
    "    circuity_avg = edge_length_total / gc_distances.sum()\n",
    "    return circuity_avg"
   ]
  },
  {
   "cell_type": "code",
   "execution_count": 10,
   "metadata": {},
   "outputs": [],
   "source": [
    "cities = pd.read_csv(\"cities.csv\")"
   ]
  },
  {
   "cell_type": "code",
   "execution_count": 11,
   "metadata": {},
   "outputs": [
    {
     "name": "stdout",
     "output_type": "stream",
     "text": [
      "CPU times: user 5min 21s, sys: 522 ms, total: 5min 22s\n",
      "Wall time: 5min 22s\n"
     ]
    }
   ],
   "source": [
    "%%time\n",
    "results = {}\n",
    "\n",
    "for i in np.arange(0, len(cities.city)):\n",
    "    \n",
    "    G = graphs[i]\n",
    "    \n",
    "    Gu = ox.get_undirected(G)\n",
    "    lengths = pd.Series(nx.get_edge_attributes(Gu, 'length'))\n",
    "    \n",
    "    k_avg = 2 * len(Gu.edges()) / len(Gu.nodes())\n",
    "    n = len(Gu.nodes())\n",
    "    m = len(Gu.edges())\n",
    "    length_median = lengths.median()\n",
    "    length_mean = lengths.mean()\n",
    "    \n",
    "    # proportion of 4-way ints, dead-ends, and avg circuity\n",
    "    prop_4way = list(Gu.graph['streets_per_node'].values()).count(4) / len(Gu.nodes())\n",
    "    prop_deadend = list(Gu.graph['streets_per_node'].values()).count(1) / len(Gu.nodes())\n",
    "    circuity_avg = circuity(Gu, lengths.sum())\n",
    "    \n",
    "    # calculate length entropy\n",
    "    count, _ = np.histogram(lengths, num_bins)\n",
    "    length_entropy = stats.entropy(count)\n",
    "    count_log, _ = np.histogram(np.log(lengths+0.01), num_bins)\n",
    "    length_entropy_log = stats.entropy(count_log)\n",
    "    \n",
    "    # calculate orientation entropy\n",
    "    bearings = get_unweighted_bearings(ox.add_edge_bearings(Gu), threshold)\n",
    "    orientation_entropy = calculate_orientation_entropy(bearings.dropna(), num_bins)\n",
    "    \n",
    "    city = cities.city[i]\n",
    "    \n",
    "    results[city] = {'k_avg'              : k_avg,\n",
    "                     'n'                  : n,\n",
    "                     'm'                  : m,\n",
    "                     'prop_4way'          : prop_4way,\n",
    "                     'prop_deadend'       : prop_deadend,\n",
    "                     'circuity_avg'       : circuity_avg,\n",
    "                     'length_median'      : length_median,\n",
    "                     'length_mean'        : length_mean,\n",
    "                     'length_entropy'     : length_entropy,\n",
    "                     'length_entropy_log' : length_entropy_log,\n",
    "                     'orientation_entropy': orientation_entropy}"
   ]
  },
  {
   "cell_type": "code",
   "execution_count": 19,
   "metadata": {},
   "outputs": [],
   "source": [
    "measures = pd.DataFrame(results).T.reset_index()\n",
    "measures = measures.rename(columns={'index': \"city\"})"
   ]
  },
  {
   "cell_type": "code",
   "execution_count": 21,
   "metadata": {},
   "outputs": [
    {
     "data": {
      "text/plain": [
       "3.58351893845611"
      ]
     },
     "execution_count": 21,
     "metadata": {},
     "output_type": "execute_result"
    }
   ],
   "source": [
    "max_entropy = np.log(num_bins)\n",
    "max_entropy"
   ]
  },
  {
   "cell_type": "code",
   "execution_count": 22,
   "metadata": {},
   "outputs": [
    {
     "data": {
      "text/plain": [
       "1.3862943611198906"
      ]
     },
     "execution_count": 22,
     "metadata": {},
     "output_type": "execute_result"
    }
   ],
   "source": [
    "min_bins = 4 \n",
    "perfect_grid = [1] * min_bins + [0] * (num_bins - min_bins)\n",
    "perfect_grid_entropy = stats.entropy(perfect_grid)\n",
    "perfect_grid_entropy"
   ]
  },
  {
   "cell_type": "code",
   "execution_count": 24,
   "metadata": {},
   "outputs": [
    {
     "data": {
      "text/html": [
       "<div>\n",
       "<style scoped>\n",
       "    .dataframe tbody tr th:only-of-type {\n",
       "        vertical-align: middle;\n",
       "    }\n",
       "\n",
       "    .dataframe tbody tr th {\n",
       "        vertical-align: top;\n",
       "    }\n",
       "\n",
       "    .dataframe thead th {\n",
       "        text-align: right;\n",
       "    }\n",
       "</style>\n",
       "<table border=\"1\" class=\"dataframe\">\n",
       "  <thead>\n",
       "    <tr style=\"text-align: right;\">\n",
       "      <th></th>\n",
       "      <th>city</th>\n",
       "      <th>k_avg</th>\n",
       "      <th>n</th>\n",
       "      <th>m</th>\n",
       "      <th>prop_4way</th>\n",
       "      <th>prop_deadend</th>\n",
       "      <th>circuity_avg</th>\n",
       "      <th>length_median</th>\n",
       "      <th>length_mean</th>\n",
       "      <th>length_entropy</th>\n",
       "      <th>length_entropy_log</th>\n",
       "      <th>orientation_entropy</th>\n",
       "      <th>orientation_order</th>\n",
       "    </tr>\n",
       "  </thead>\n",
       "  <tbody>\n",
       "    <tr>\n",
       "      <th>0</th>\n",
       "      <td>New York City</td>\n",
       "      <td>3.293023</td>\n",
       "      <td>2150.0</td>\n",
       "      <td>3540.0</td>\n",
       "      <td>0.476744</td>\n",
       "      <td>0.079070</td>\n",
       "      <td>1.038945</td>\n",
       "      <td>18.6605</td>\n",
       "      <td>39.283738</td>\n",
       "      <td>1.682079</td>\n",
       "      <td>2.735562</td>\n",
       "      <td>3.385253</td>\n",
       "      <td>0.172327</td>\n",
       "    </tr>\n",
       "    <tr>\n",
       "      <th>1</th>\n",
       "      <td>Los Angeles</td>\n",
       "      <td>2.996134</td>\n",
       "      <td>1552.0</td>\n",
       "      <td>2325.0</td>\n",
       "      <td>0.382088</td>\n",
       "      <td>0.150129</td>\n",
       "      <td>1.078653</td>\n",
       "      <td>26.4980</td>\n",
       "      <td>51.805418</td>\n",
       "      <td>1.730214</td>\n",
       "      <td>3.088774</td>\n",
       "      <td>3.110549</td>\n",
       "      <td>0.384180</td>\n",
       "    </tr>\n",
       "    <tr>\n",
       "      <th>2</th>\n",
       "      <td>Chicago</td>\n",
       "      <td>3.073418</td>\n",
       "      <td>2765.0</td>\n",
       "      <td>4249.0</td>\n",
       "      <td>0.409042</td>\n",
       "      <td>0.150452</td>\n",
       "      <td>1.051320</td>\n",
       "      <td>19.2070</td>\n",
       "      <td>39.650949</td>\n",
       "      <td>1.351369</td>\n",
       "      <td>2.901023</td>\n",
       "      <td>2.421493</td>\n",
       "      <td>0.778028</td>\n",
       "    </tr>\n",
       "    <tr>\n",
       "      <th>3</th>\n",
       "      <td>Houston</td>\n",
       "      <td>3.031579</td>\n",
       "      <td>1425.0</td>\n",
       "      <td>2160.0</td>\n",
       "      <td>0.312281</td>\n",
       "      <td>0.095439</td>\n",
       "      <td>1.064071</td>\n",
       "      <td>38.3565</td>\n",
       "      <td>55.115096</td>\n",
       "      <td>1.779185</td>\n",
       "      <td>2.881514</td>\n",
       "      <td>3.184961</td>\n",
       "      <td>0.329880</td>\n",
       "    </tr>\n",
       "    <tr>\n",
       "      <th>4</th>\n",
       "      <td>Phoenix</td>\n",
       "      <td>2.720307</td>\n",
       "      <td>261.0</td>\n",
       "      <td>355.0</td>\n",
       "      <td>0.107280</td>\n",
       "      <td>0.149425</td>\n",
       "      <td>1.178540</td>\n",
       "      <td>62.9290</td>\n",
       "      <td>103.169411</td>\n",
       "      <td>2.413476</td>\n",
       "      <td>3.167428</td>\n",
       "      <td>2.435797</td>\n",
       "      <td>0.771851</td>\n",
       "    </tr>\n",
       "  </tbody>\n",
       "</table>\n",
       "</div>"
      ],
      "text/plain": [
       "            city     k_avg       n       m  prop_4way  prop_deadend  \\\n",
       "0  New York City  3.293023  2150.0  3540.0   0.476744      0.079070   \n",
       "1    Los Angeles  2.996134  1552.0  2325.0   0.382088      0.150129   \n",
       "2        Chicago  3.073418  2765.0  4249.0   0.409042      0.150452   \n",
       "3        Houston  3.031579  1425.0  2160.0   0.312281      0.095439   \n",
       "4        Phoenix  2.720307   261.0   355.0   0.107280      0.149425   \n",
       "\n",
       "   circuity_avg  length_median  length_mean  length_entropy  \\\n",
       "0      1.038945        18.6605    39.283738        1.682079   \n",
       "1      1.078653        26.4980    51.805418        1.730214   \n",
       "2      1.051320        19.2070    39.650949        1.351369   \n",
       "3      1.064071        38.3565    55.115096        1.779185   \n",
       "4      1.178540        62.9290   103.169411        2.413476   \n",
       "\n",
       "   length_entropy_log  orientation_entropy  orientation_order  \n",
       "0            2.735562             3.385253           0.172327  \n",
       "1            3.088774             3.110549           0.384180  \n",
       "2            2.901023             2.421493           0.778028  \n",
       "3            2.881514             3.184961           0.329880  \n",
       "4            3.167428             2.435797           0.771851  "
      ]
     },
     "execution_count": 24,
     "metadata": {},
     "output_type": "execute_result"
    }
   ],
   "source": [
    "def orientation_order(eta, max_ent=max_entropy, min_ent=perfect_grid_entropy):\n",
    "    # normalize it as a value between perfect_grid_entropy and max_entropy\n",
    "    # then square it to approx linearize orientation_order's relationship with the\n",
    "    # share of total bins with equal non-zero probabilities\n",
    "    return 1 - ((eta - min_ent) / (max_ent - min_ent)) ** 2\n",
    "\n",
    "measures['orientation_order'] = measures['orientation_entropy'].map(orientation_order)\n",
    "\n",
    "measures.head()"
   ]
  },
  {
   "cell_type": "code",
   "execution_count": 25,
   "metadata": {},
   "outputs": [],
   "source": [
    "measures['m'] = measures['m'].astype(int)\n",
    "measures['n'] = measures['n'].astype(int)"
   ]
  },
  {
   "cell_type": "code",
   "execution_count": 26,
   "metadata": {},
   "outputs": [],
   "source": [
    "measures.to_csv(\"measures_grid.csv\")"
   ]
  },
  {
   "cell_type": "code",
   "execution_count": 27,
   "metadata": {},
   "outputs": [],
   "source": [
    "with open(\"google.json\", \"r\") as token:\n",
    "    GOOGLE_KEY = json.load(token)[\"key\"]"
   ]
  },
  {
   "cell_type": "code",
   "execution_count": 57,
   "metadata": {},
   "outputs": [
    {
     "name": "stdout",
     "output_type": "stream",
     "text": [
      "CPU times: user 5min 38s, sys: 2.13 s, total: 5min 40s\n",
      "Wall time: 1h 7min 7s\n"
     ]
    }
   ],
   "source": [
    "%%time\n",
    "results = {}\n",
    "\n",
    "for i in np.arange(0, len(cities)):\n",
    "    \n",
    "    G = ox.get_undirected(graphs[i])\n",
    "    G = ox.add_node_elevations(G, api_key=GOOGLE_KEY)\n",
    "    G = ox.add_edge_grades(G)\n",
    "    \n",
    "    e_grad = pd.Series(nx.get_edge_attributes(G, \"grade_abs\"))\n",
    "    n_elev = pd.Series(nx.get_node_attributes(G, \"elevation\"))\n",
    "    \n",
    "    gradient_iqr = stats.iqr(e_grad)\n",
    "    gradient_max = max(e_grad)\n",
    "    gradient_min = min(e_grad)\n",
    "    \n",
    "    elevation_iqr = stats.iqr(n_elev)\n",
    "    elevation_max = max(n_elev)\n",
    "    elevation_min = min(n_elev)\n",
    "    \n",
    "    city = cities.city[i]\n",
    "    \n",
    "    results[city] = {'gradient_iqr'       : gradient_iqr,\n",
    "                     'gradient_max'       : gradient_max,\n",
    "                     'gradient_min'       : gradient_min,\n",
    "                     'elevation_iqr'      : elevation_iqr,\n",
    "                     'elevation_max'      : elevation_max,\n",
    "                     'elevation_min'      : elevation_min}"
   ]
  },
  {
   "cell_type": "code",
   "execution_count": 58,
   "metadata": {},
   "outputs": [],
   "source": [
    "measures = pd.DataFrame(results).T.reset_index()\n",
    "measures = measures.rename(columns={'index': \"city\"})"
   ]
  },
  {
   "cell_type": "code",
   "execution_count": 59,
   "metadata": {},
   "outputs": [],
   "source": [
    "measures.to_csv(\"measures_elev.csv\")"
   ]
  },
  {
   "cell_type": "code",
   "execution_count": 69,
   "metadata": {},
   "outputs": [],
   "source": [
    "edges = gpd.read_file(\"edges_us.gpkg\")\n",
    "nodes = gpd.read_file(\"nodes_us.gpkg\")"
   ]
  },
  {
   "cell_type": "code",
   "execution_count": 99,
   "metadata": {},
   "outputs": [],
   "source": [
    "buildings = gpd.read_file(\"buildings.gpkg\")"
   ]
  },
  {
   "cell_type": "code",
   "execution_count": 100,
   "metadata": {},
   "outputs": [],
   "source": [
    "def fractal_dimension(Z, threshold=0):\n",
    "    # only for 2d image\n",
    "    assert(len(Z.shape) == 2)\n",
    "\n",
    "    # from https://github.com/rougier/numpy-100 (#87)\n",
    "    def boxcount(Z, k):\n",
    "        S = np.add.reduceat(\n",
    "            np.add.reduceat(Z, np.arange(0, Z.shape[0], k), axis=0),\n",
    "                               np.arange(0, Z.shape[1], k), axis=1)\n",
    "\n",
    "        # we count non-empty (0) and non-full boxes (k*k)\n",
    "        return len(np.where((S > 0) & (S < k*k))[0])\n",
    "\n",
    "    # transform Z into a binary array\n",
    "    Z = (Z < threshold)\n",
    "\n",
    "    # minimal dimension of image\n",
    "    p = min(Z.shape)\n",
    "\n",
    "    # greatest power of 2 less than or equal to p\n",
    "    n = 2**np.floor(np.log(p)/np.log(2))\n",
    "\n",
    "    # extract the exponent\n",
    "    n = int(np.log(n)/np.log(2))\n",
    "\n",
    "    # build successive box sizes (from 2**n down to 2**1)\n",
    "    sizes = 2**np.arange(n, 1, -1)\n",
    "\n",
    "    # actual box counting with decreasing size\n",
    "    counts = []\n",
    "    for size in sizes:\n",
    "        counts.append(boxcount(Z, size))\n",
    "\n",
    "    # fit the successive log(sizes) with log (counts)\n",
    "    coeffs = np.polyfit(np.log(sizes), np.log(counts), 1)\n",
    "    return -coeffs[0]"
   ]
  },
  {
   "cell_type": "code",
   "execution_count": 195,
   "metadata": {},
   "outputs": [],
   "source": [
    "def get_street_image(city):\n",
    "    \n",
    "    street_widths = {'footway' : 0.5,\n",
    "                     'steps' : 0.5,\n",
    "                     'pedestrian' : 0.5,\n",
    "                     'path' : 0.5,\n",
    "                     'track' : 0.5,\n",
    "                     'service' : 2,\n",
    "                     'residential' : 3,\n",
    "                     'primary' : 5,\n",
    "                     'motorway' : 6}\n",
    "    \n",
    "    fig, ax = plt.subplots(1, 1, figsize=(20, 20), \n",
    "                           facecolor='k',\n",
    "                           constrained_layout=True, \n",
    "                           subplot_kw=dict(aspect='equal'))\n",
    "                     \n",
    "    i = cities[cities['city']==city].index[0]\n",
    "    \n",
    "    node = nodes[nodes['city']==cities.city[i]]\n",
    "    edge = edges[edges['city']==cities.city[i]]\n",
    "    \n",
    "    edge_linewidths = []\n",
    "    \n",
    "    default_width = 0.5\n",
    "    \n",
    "    for label in edge.highway:\n",
    "        street_type = label[0] if isinstance(label, list) else label\n",
    "    \n",
    "        if street_type in street_widths:\n",
    "            edge_linewidths.append(street_widths[street_type])\n",
    "        else:\n",
    "            edge_linewidths.append(default_width)\n",
    "\n",
    "    edge.plot(ax=ax, color='w', lw=edge_linewidths)\n",
    "    \n",
    "    bbox = ox.utils_geo.bbox_from_point((cities['lat'][i], cities['lon'][i]), 800, project_utm=False)\n",
    "    \n",
    "    north, south, east, west = bbox\n",
    "    ax.set_ylim((south, north))\n",
    "    ax.set_xlim((west, east))\n",
    "\n",
    "    ax.margins(0)\n",
    "    ax.axis('off')\n",
    "\n",
    "    fig.canvas.draw()\n",
    "    img = np.frombuffer(fig.canvas.tostring_rgb(), dtype=\"uint8\")\n",
    "    img = img.reshape(fig.canvas.get_width_height()[::-1] + (3,))\n",
    "    \n",
    "    plt.clf()\n",
    "    \n",
    "    return img[:, :, 0]"
   ]
  },
  {
   "cell_type": "code",
   "execution_count": 196,
   "metadata": {},
   "outputs": [],
   "source": [
    "def get_building_image(city):\n",
    "    \n",
    "    fig, ax = plt.subplots(1, 1, figsize=(20, 20), \n",
    "                           facecolor='k',\n",
    "                           constrained_layout=True, \n",
    "                           subplot_kw=dict(aspect='equal'))    \n",
    "    \n",
    "    i = cities[cities['city']==city].index[0]\n",
    "    \n",
    "    building = buildings[buildings['city']==cities.city[i]]\n",
    "    \n",
    "    building.plot(ax=ax, color='w')\n",
    "    \n",
    "    bbox = ox.utils_geo.bbox_from_point((cities['lat'][i], cities['lon'][i]), 800, project_utm=False)\n",
    "    \n",
    "    north, south, east, west = bbox\n",
    "    ax.set_ylim((south, north))\n",
    "    ax.set_xlim((west, east))\n",
    "\n",
    "    ax.margins(0)\n",
    "    ax.axis('off')\n",
    "\n",
    "    fig.canvas.draw()\n",
    "    img = np.frombuffer(fig.canvas.tostring_rgb(), dtype=\"uint8\")\n",
    "    img = img.reshape(fig.canvas.get_width_height()[::-1] + (3,))\n",
    "    \n",
    "    plt.clf()\n",
    "    \n",
    "    return img[:, :, 0]"
   ]
  },
  {
   "cell_type": "code",
   "execution_count": 197,
   "metadata": {},
   "outputs": [
    {
     "name": "stdout",
     "output_type": "stream",
     "text": [
      "CPU times: user 38min 14s, sys: 31.1 s, total: 38min 45s\n",
      "Wall time: 7min 8s\n"
     ]
    }
   ],
   "source": [
    "%%time\n",
    "results = {}\n",
    "\n",
    "for i in np.arange(0, len(cities.city)):\n",
    "    \n",
    "    city = cities.city[i]\n",
    "    street_plot = get_street_image(city=city)\n",
    "    fractal_streets = fractal_dimension(street_plot, threshold=0.25)\n",
    "    \n",
    "    building_plot = get_building_image(city=city)\n",
    "    fractal_buildings = fractal_dimension(building_plot, threshold=0.25)\n",
    "    \n",
    "    results[city] = {'fractal_streets'  : fractal_streets,\n",
    "                     'fractal_buildings': fractal_buildings}\n",
    "    \n",
    "    plt.close('all')"
   ]
  },
  {
   "cell_type": "code",
   "execution_count": 198,
   "metadata": {},
   "outputs": [],
   "source": [
    "measures = pd.DataFrame(results).T.reset_index()\n",
    "measures = measures.rename(columns={'index': \"city\"})"
   ]
  },
  {
   "cell_type": "code",
   "execution_count": 199,
   "metadata": {},
   "outputs": [],
   "source": [
    "measures.to_csv(\"measures_frac.csv\")"
   ]
  },
  {
   "cell_type": "code",
   "execution_count": 200,
   "metadata": {},
   "outputs": [],
   "source": [
    "buildings = gpd.read_file(\"buildings.gpkg\")"
   ]
  },
  {
   "cell_type": "code",
   "execution_count": 201,
   "metadata": {},
   "outputs": [],
   "source": [
    "buildings = buildings.to_crs(3857)\n",
    "buildings['area'] = buildings.geometry.area"
   ]
  },
  {
   "cell_type": "code",
   "execution_count": 202,
   "metadata": {},
   "outputs": [],
   "source": [
    "measures = buildings.groupby('city').agg({'area': ['min', 'max', 'mean'],\n",
    "                                          'osmid': 'count'}).reset_index()"
   ]
  },
  {
   "cell_type": "code",
   "execution_count": 203,
   "metadata": {},
   "outputs": [],
   "source": [
    "measures.columns = measures.columns.map('_'.join)\n",
    "measures = measures.rename(columns={'city_': 'city'})"
   ]
  },
  {
   "cell_type": "code",
   "execution_count": 204,
   "metadata": {},
   "outputs": [
    {
     "data": {
      "text/html": [
       "<div>\n",
       "<style scoped>\n",
       "    .dataframe tbody tr th:only-of-type {\n",
       "        vertical-align: middle;\n",
       "    }\n",
       "\n",
       "    .dataframe tbody tr th {\n",
       "        vertical-align: top;\n",
       "    }\n",
       "\n",
       "    .dataframe thead th {\n",
       "        text-align: right;\n",
       "    }\n",
       "</style>\n",
       "<table border=\"1\" class=\"dataframe\">\n",
       "  <thead>\n",
       "    <tr style=\"text-align: right;\">\n",
       "      <th></th>\n",
       "      <th>city</th>\n",
       "      <th>area_min</th>\n",
       "      <th>area_max</th>\n",
       "      <th>area_mean</th>\n",
       "      <th>osmid_count</th>\n",
       "    </tr>\n",
       "  </thead>\n",
       "  <tbody>\n",
       "    <tr>\n",
       "      <th>0</th>\n",
       "      <td>Abilene</td>\n",
       "      <td>0.000000</td>\n",
       "      <td>13888.096798</td>\n",
       "      <td>1470.630733</td>\n",
       "      <td>313</td>\n",
       "    </tr>\n",
       "    <tr>\n",
       "      <th>1</th>\n",
       "      <td>Akron</td>\n",
       "      <td>7.376867</td>\n",
       "      <td>31455.214670</td>\n",
       "      <td>2361.457974</td>\n",
       "      <td>497</td>\n",
       "    </tr>\n",
       "    <tr>\n",
       "      <th>2</th>\n",
       "      <td>Albuquerque</td>\n",
       "      <td>0.000000</td>\n",
       "      <td>40821.136423</td>\n",
       "      <td>619.995841</td>\n",
       "      <td>1987</td>\n",
       "    </tr>\n",
       "    <tr>\n",
       "      <th>3</th>\n",
       "      <td>Alexandria</td>\n",
       "      <td>0.000000</td>\n",
       "      <td>9870.248877</td>\n",
       "      <td>256.829237</td>\n",
       "      <td>4933</td>\n",
       "    </tr>\n",
       "    <tr>\n",
       "      <th>4</th>\n",
       "      <td>Allen</td>\n",
       "      <td>13.428359</td>\n",
       "      <td>16796.669743</td>\n",
       "      <td>817.140416</td>\n",
       "      <td>994</td>\n",
       "    </tr>\n",
       "  </tbody>\n",
       "</table>\n",
       "</div>"
      ],
      "text/plain": [
       "          city   area_min      area_max    area_mean  osmid_count\n",
       "0      Abilene   0.000000  13888.096798  1470.630733          313\n",
       "1        Akron   7.376867  31455.214670  2361.457974          497\n",
       "2  Albuquerque   0.000000  40821.136423   619.995841         1987\n",
       "3   Alexandria   0.000000   9870.248877   256.829237         4933\n",
       "4        Allen  13.428359  16796.669743   817.140416          994"
      ]
     },
     "execution_count": 204,
     "metadata": {},
     "output_type": "execute_result"
    }
   ],
   "source": [
    "measures.head()"
   ]
  },
  {
   "cell_type": "code",
   "execution_count": 205,
   "metadata": {},
   "outputs": [],
   "source": [
    "measures.to_csv(\"measures_area.csv\")"
   ]
  }
 ],
 "metadata": {
  "kernelspec": {
   "display_name": "Python 3",
   "language": "python",
   "name": "python3"
  },
  "language_info": {
   "codemirror_mode": {
    "name": "ipython",
    "version": 3
   },
   "file_extension": ".py",
   "mimetype": "text/x-python",
   "name": "python",
   "nbconvert_exporter": "python",
   "pygments_lexer": "ipython3",
   "version": "3.8.6"
  }
 },
 "nbformat": 4,
 "nbformat_minor": 4
}
