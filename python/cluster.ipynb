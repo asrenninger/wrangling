{
 "cells": [
  {
   "cell_type": "code",
   "execution_count": 86,
   "metadata": {},
   "outputs": [],
   "source": [
    "import pandas as pd\n",
    "import geopandas as gpd\n",
    "import numpy as np"
   ]
  },
  {
   "cell_type": "code",
   "execution_count": 87,
   "metadata": {},
   "outputs": [],
   "source": [
    "elev = pd.read_csv(\"measures_elev.csv\", index_col=0)\n",
    "area = pd.read_csv(\"measures_area.csv\", index_col=0)\n",
    "grid = pd.read_csv(\"measures_grid.csv\", index_col=0)\n",
    "frac = pd.read_csv(\"measures_frac.csv\", index_col=0)\n",
    "dens = pd.read_csv(\"measures_dens.csv\").drop(['system:index', '.geo'], axis=1)\n",
    "indx = pd.read_csv(\"measures_indx.csv\").drop(['system:index', '.geo'], axis=1)"
   ]
  },
  {
   "cell_type": "code",
   "execution_count": 88,
   "metadata": {},
   "outputs": [
    {
     "data": {
      "text/html": [
       "<div>\n",
       "<style scoped>\n",
       "    .dataframe tbody tr th:only-of-type {\n",
       "        vertical-align: middle;\n",
       "    }\n",
       "\n",
       "    .dataframe tbody tr th {\n",
       "        vertical-align: top;\n",
       "    }\n",
       "\n",
       "    .dataframe thead th {\n",
       "        text-align: right;\n",
       "    }\n",
       "</style>\n",
       "<table border=\"1\" class=\"dataframe\">\n",
       "  <thead>\n",
       "    <tr style=\"text-align: right;\">\n",
       "      <th></th>\n",
       "      <th>city</th>\n",
       "      <th>gradient_iqr</th>\n",
       "      <th>gradient_max</th>\n",
       "      <th>gradient_min</th>\n",
       "      <th>elevation_iqr</th>\n",
       "      <th>elevation_max</th>\n",
       "      <th>elevation_min</th>\n",
       "      <th>area_min</th>\n",
       "      <th>area_max</th>\n",
       "      <th>area_mean</th>\n",
       "      <th>...</th>\n",
       "      <th>fractal_streets</th>\n",
       "      <th>fractal_buildings</th>\n",
       "      <th>day_mean</th>\n",
       "      <th>day_stdDev</th>\n",
       "      <th>night_mean</th>\n",
       "      <th>night_stdDev</th>\n",
       "      <th>ndvi_mean</th>\n",
       "      <th>ndvi_stdDev</th>\n",
       "      <th>ndwi_mean</th>\n",
       "      <th>ndwi_stdDev</th>\n",
       "    </tr>\n",
       "  </thead>\n",
       "  <tbody>\n",
       "    <tr>\n",
       "      <th>0</th>\n",
       "      <td>New York City</td>\n",
       "      <td>0.0220</td>\n",
       "      <td>0.261</td>\n",
       "      <td>0.0</td>\n",
       "      <td>5.549</td>\n",
       "      <td>17.362</td>\n",
       "      <td>-2.172</td>\n",
       "      <td>0.000000</td>\n",
       "      <td>29805.231165</td>\n",
       "      <td>940.735693</td>\n",
       "      <td>...</td>\n",
       "      <td>1.675910</td>\n",
       "      <td>1.623507</td>\n",
       "      <td>766.850760</td>\n",
       "      <td>1305.399601</td>\n",
       "      <td>151.310293</td>\n",
       "      <td>213.293338</td>\n",
       "      <td>0.188684</td>\n",
       "      <td>0.184467</td>\n",
       "      <td>0.326142</td>\n",
       "      <td>0.172623</td>\n",
       "    </tr>\n",
       "    <tr>\n",
       "      <th>1</th>\n",
       "      <td>Los Angeles</td>\n",
       "      <td>0.0220</td>\n",
       "      <td>0.861</td>\n",
       "      <td>0.0</td>\n",
       "      <td>14.297</td>\n",
       "      <td>125.212</td>\n",
       "      <td>77.119</td>\n",
       "      <td>0.000000</td>\n",
       "      <td>55099.213429</td>\n",
       "      <td>2074.662064</td>\n",
       "      <td>...</td>\n",
       "      <td>1.657529</td>\n",
       "      <td>1.578059</td>\n",
       "      <td>383.010164</td>\n",
       "      <td>900.355617</td>\n",
       "      <td>45.812781</td>\n",
       "      <td>103.845602</td>\n",
       "      <td>0.151579</td>\n",
       "      <td>0.143746</td>\n",
       "      <td>0.144419</td>\n",
       "      <td>0.100925</td>\n",
       "    </tr>\n",
       "    <tr>\n",
       "      <th>2</th>\n",
       "      <td>Chicago</td>\n",
       "      <td>0.0200</td>\n",
       "      <td>0.632</td>\n",
       "      <td>0.0</td>\n",
       "      <td>2.231</td>\n",
       "      <td>193.627</td>\n",
       "      <td>175.077</td>\n",
       "      <td>0.000000</td>\n",
       "      <td>67792.071598</td>\n",
       "      <td>2694.566730</td>\n",
       "      <td>...</td>\n",
       "      <td>1.650953</td>\n",
       "      <td>1.561960</td>\n",
       "      <td>1064.810165</td>\n",
       "      <td>1338.282236</td>\n",
       "      <td>57.818916</td>\n",
       "      <td>221.753870</td>\n",
       "      <td>0.155867</td>\n",
       "      <td>0.152960</td>\n",
       "      <td>0.538388</td>\n",
       "      <td>0.072540</td>\n",
       "    </tr>\n",
       "    <tr>\n",
       "      <th>3</th>\n",
       "      <td>Houston</td>\n",
       "      <td>0.0090</td>\n",
       "      <td>0.450</td>\n",
       "      <td>0.0</td>\n",
       "      <td>2.024</td>\n",
       "      <td>16.875</td>\n",
       "      <td>-0.121</td>\n",
       "      <td>0.000000</td>\n",
       "      <td>87922.170451</td>\n",
       "      <td>1442.117795</td>\n",
       "      <td>...</td>\n",
       "      <td>1.645951</td>\n",
       "      <td>1.514563</td>\n",
       "      <td>323.573247</td>\n",
       "      <td>609.189522</td>\n",
       "      <td>18.264499</td>\n",
       "      <td>53.723820</td>\n",
       "      <td>0.307336</td>\n",
       "      <td>0.188677</td>\n",
       "      <td>0.234601</td>\n",
       "      <td>0.093729</td>\n",
       "    </tr>\n",
       "    <tr>\n",
       "      <th>4</th>\n",
       "      <td>Phoenix</td>\n",
       "      <td>0.0035</td>\n",
       "      <td>0.031</td>\n",
       "      <td>0.0</td>\n",
       "      <td>2.092</td>\n",
       "      <td>318.511</td>\n",
       "      <td>310.681</td>\n",
       "      <td>96.625412</td>\n",
       "      <td>208608.366002</td>\n",
       "      <td>24355.289146</td>\n",
       "      <td>...</td>\n",
       "      <td>1.409317</td>\n",
       "      <td>1.184342</td>\n",
       "      <td>15.587955</td>\n",
       "      <td>37.057716</td>\n",
       "      <td>4.651462</td>\n",
       "      <td>14.016248</td>\n",
       "      <td>0.222122</td>\n",
       "      <td>0.201458</td>\n",
       "      <td>0.175803</td>\n",
       "      <td>0.119662</td>\n",
       "    </tr>\n",
       "  </tbody>\n",
       "</table>\n",
       "<p>5 rows × 33 columns</p>\n",
       "</div>"
      ],
      "text/plain": [
       "            city  gradient_iqr  gradient_max  gradient_min  elevation_iqr  \\\n",
       "0  New York City        0.0220         0.261           0.0          5.549   \n",
       "1    Los Angeles        0.0220         0.861           0.0         14.297   \n",
       "2        Chicago        0.0200         0.632           0.0          2.231   \n",
       "3        Houston        0.0090         0.450           0.0          2.024   \n",
       "4        Phoenix        0.0035         0.031           0.0          2.092   \n",
       "\n",
       "   elevation_max  elevation_min   area_min       area_max     area_mean  ...  \\\n",
       "0         17.362         -2.172   0.000000   29805.231165    940.735693  ...   \n",
       "1        125.212         77.119   0.000000   55099.213429   2074.662064  ...   \n",
       "2        193.627        175.077   0.000000   67792.071598   2694.566730  ...   \n",
       "3         16.875         -0.121   0.000000   87922.170451   1442.117795  ...   \n",
       "4        318.511        310.681  96.625412  208608.366002  24355.289146  ...   \n",
       "\n",
       "   fractal_streets  fractal_buildings     day_mean   day_stdDev  night_mean  \\\n",
       "0         1.675910           1.623507   766.850760  1305.399601  151.310293   \n",
       "1         1.657529           1.578059   383.010164   900.355617   45.812781   \n",
       "2         1.650953           1.561960  1064.810165  1338.282236   57.818916   \n",
       "3         1.645951           1.514563   323.573247   609.189522   18.264499   \n",
       "4         1.409317           1.184342    15.587955    37.057716    4.651462   \n",
       "\n",
       "   night_stdDev  ndvi_mean  ndvi_stdDev  ndwi_mean  ndwi_stdDev  \n",
       "0    213.293338   0.188684     0.184467   0.326142     0.172623  \n",
       "1    103.845602   0.151579     0.143746   0.144419     0.100925  \n",
       "2    221.753870   0.155867     0.152960   0.538388     0.072540  \n",
       "3     53.723820   0.307336     0.188677   0.234601     0.093729  \n",
       "4     14.016248   0.222122     0.201458   0.175803     0.119662  \n",
       "\n",
       "[5 rows x 33 columns]"
      ]
     },
     "execution_count": 88,
     "metadata": {},
     "output_type": "execute_result"
    }
   ],
   "source": [
    "measures = elev.merge(area, left_on='city', right_on='city', how='inner')\n",
    "\n",
    "for i in [grid, frac, dens, indx]:\n",
    "    measures = measures.merge(i, left_on='city', right_on='city', how='inner')\n",
    "\n",
    "measures.head()"
   ]
  },
  {
   "cell_type": "code",
   "execution_count": 89,
   "metadata": {},
   "outputs": [],
   "source": [
    "matrix = measures.drop(['city', 'gradient_min', 'gradient_max', \n",
    "                        'ndvi_stdDev', 'ndwi_stdDev', \n",
    "                        'elevation_min', 'elevation_max', \n",
    "                        'area_min', 'area_max'], axis=1).corr().reset_index().melt(id_vars='index', \n",
    "                                                                                   var_name='variable', \n",
    "                                                                                   value_name='value')"
   ]
  },
  {
   "cell_type": "code",
   "execution_count": 98,
   "metadata": {},
   "outputs": [
    {
     "data": {
      "text/plain": [
       "Index(['city', 'gradient_iqr', 'gradient_max', 'gradient_min', 'elevation_iqr',\n",
       "       'elevation_max', 'elevation_min', 'area_min', 'area_max', 'area_mean',\n",
       "       'osmid_count', 'k_avg', 'n', 'm', 'prop_4way', 'prop_deadend',\n",
       "       'circuity_avg', 'length_median', 'length_mean', 'length_entropy',\n",
       "       'length_entropy_log', 'orientation_entropy', 'orientation_order',\n",
       "       'fractal_streets', 'fractal_buildings', 'day_mean', 'day_stdDev',\n",
       "       'night_mean', 'night_stdDev', 'ndvi_mean', 'ndvi_stdDev', 'ndwi_mean',\n",
       "       'ndwi_stdDev'],\n",
       "      dtype='object')"
      ]
     },
     "execution_count": 98,
     "metadata": {},
     "output_type": "execute_result"
    }
   ],
   "source": [
    "measures.columns"
   ]
  },
  {
   "cell_type": "code",
   "execution_count": 90,
   "metadata": {},
   "outputs": [],
   "source": [
    "import hvplot.pandas\n",
    "import hvplot"
   ]
  },
  {
   "cell_type": "code",
   "execution_count": 95,
   "metadata": {},
   "outputs": [],
   "source": [
    "# Make the heatmap with hvplot\n",
    "heatmap = matrix.hvplot.heatmap(\n",
    "    x=\"index\",\n",
    "    y=\"variable\",\n",
    "    C=\"value\", \n",
    "    reduce_function=np.mean,\n",
    "    frame_height=600,\n",
    "    frame_width=600,\n",
    "    flip_yaxis=True,\n",
    "    rot=90,\n",
    "    colorbar=False,\n",
    "    cmap=\"bmw\",\n",
    "    xlabel=\"\",\n",
    "    ylabel=\"\",\n",
    ")\n",
    "\n",
    "heatmap = heatmap.redim(index=\"reference\", variable=\"comparison\")\n",
    "heatmap = heatmap.opts(toolbar=None, colorbar=True, clim=(-1, 1))"
   ]
  },
  {
   "cell_type": "code",
   "execution_count": 96,
   "metadata": {},
   "outputs": [
    {
     "data": {},
     "metadata": {},
     "output_type": "display_data"
    },
    {
     "data": {
      "application/vnd.holoviews_exec.v0+json": "",
      "text/html": [
       "<div id='2585'>\n",
       "\n",
       "\n",
       "\n",
       "\n",
       "\n",
       "  <div class=\"bk-root\" id=\"474c6945-da95-41de-8aa0-5ae32a34f648\" data-root-id=\"2585\"></div>\n",
       "</div>\n",
       "<script type=\"application/javascript\">(function(root) {\n",
       "  function embed_document(root) {\n",
       "    var docs_json = {\"e79a3974-4d74-4604-ba21-84c2e882d1f3\":{\"roots\":{\"references\":[{\"attributes\":{},\"id\":\"2639\",\"type\":\"BasicTickFormatter\"},{\"attributes\":{\"below\":[{\"id\":\"2599\"}],\"center\":[{\"id\":\"2601\"},{\"id\":\"2604\"}],\"frame_height\":600,\"frame_width\":600,\"left\":[{\"id\":\"2602\"}],\"margin\":[5,5,5,5],\"min_border_bottom\":10,\"min_border_left\":10,\"min_border_right\":10,\"min_border_top\":10,\"plot_height\":null,\"plot_width\":null,\"renderers\":[{\"id\":\"2625\"}],\"right\":[{\"id\":\"2628\"}],\"sizing_mode\":\"fixed\",\"title\":{\"id\":\"2591\"},\"toolbar\":{\"id\":\"2611\"},\"toolbar_location\":null,\"x_range\":{\"id\":\"2587\"},\"x_scale\":{\"id\":\"2595\"},\"y_range\":{\"id\":\"2588\"},\"y_scale\":{\"id\":\"2597\"}},\"id\":\"2590\",\"subtype\":\"Figure\",\"type\":\"Plot\"},{\"attributes\":{\"bounds\":\"auto\",\"formatter\":{\"id\":\"2632\"},\"major_label_orientation\":\"horizontal\",\"ticker\":{\"id\":\"2603\"}},\"id\":\"2602\",\"type\":\"CategoricalAxis\"},{\"attributes\":{\"text\":\"\",\"text_color\":{\"value\":\"black\"},\"text_font_size\":{\"value\":\"12pt\"}},\"id\":\"2591\",\"type\":\"Title\"},{\"attributes\":{\"axis\":{\"id\":\"2599\"},\"grid_line_color\":null,\"ticker\":null},\"id\":\"2601\",\"type\":\"Grid\"},{\"attributes\":{},\"id\":\"2600\",\"type\":\"CategoricalTicker\"},{\"attributes\":{\"axis\":{\"id\":\"2602\"},\"dimension\":1,\"grid_line_color\":null,\"ticker\":null},\"id\":\"2604\",\"type\":\"Grid\"},{\"attributes\":{\"data_source\":{\"id\":\"2619\"},\"glyph\":{\"id\":\"2622\"},\"hover_glyph\":null,\"muted_glyph\":null,\"nonselection_glyph\":{\"id\":\"2623\"},\"selection_glyph\":{\"id\":\"2624\"},\"view\":{\"id\":\"2626\"}},\"id\":\"2625\",\"type\":\"GlyphRenderer\"},{\"attributes\":{\"data\":{\"comparison\":[\"ndwi_mean\",\"ndvi_mean\",\"night_stdDev\",\"night_mean\",\"day_stdDev\",\"day_mean\",\"fractal_buildings\",\"fractal_streets\",\"orientation_order\",\"orientation_entropy\",\"length_entropy_log\",\"length_entropy\",\"length_mean\",\"length_median\",\"circuity_avg\",\"prop_deadend\",\"prop_4way\",\"m\",\"n\",\"k_avg\",\"osmid_count\",\"area_mean\",\"elevation_iqr\",\"gradient_iqr\",\"ndwi_mean\",\"ndvi_mean\",\"night_stdDev\",\"night_mean\",\"day_stdDev\",\"day_mean\",\"fractal_buildings\",\"fractal_streets\",\"orientation_order\",\"orientation_entropy\",\"length_entropy_log\",\"length_entropy\",\"length_mean\",\"length_median\",\"circuity_avg\",\"prop_deadend\",\"prop_4way\",\"m\",\"n\",\"k_avg\",\"osmid_count\",\"area_mean\",\"elevation_iqr\",\"gradient_iqr\",\"ndwi_mean\",\"ndvi_mean\",\"night_stdDev\",\"night_mean\",\"day_stdDev\",\"day_mean\",\"fractal_buildings\",\"fractal_streets\",\"orientation_order\",\"orientation_entropy\",\"length_entropy_log\",\"length_entropy\",\"length_mean\",\"length_median\",\"circuity_avg\",\"prop_deadend\",\"prop_4way\",\"m\",\"n\",\"k_avg\",\"osmid_count\",\"area_mean\",\"elevation_iqr\",\"gradient_iqr\",\"ndwi_mean\",\"ndvi_mean\",\"night_stdDev\",\"night_mean\",\"day_stdDev\",\"day_mean\",\"fractal_buildings\",\"fractal_streets\",\"orientation_order\",\"orientation_entropy\",\"length_entropy_log\",\"length_entropy\",\"length_mean\",\"length_median\",\"circuity_avg\",\"prop_deadend\",\"prop_4way\",\"m\",\"n\",\"k_avg\",\"osmid_count\",\"area_mean\",\"elevation_iqr\",\"gradient_iqr\",\"ndwi_mean\",\"ndvi_mean\",\"night_stdDev\",\"night_mean\",\"day_stdDev\",\"day_mean\",\"fractal_buildings\",\"fractal_streets\",\"orientation_order\",\"orientation_entropy\",\"length_entropy_log\",\"length_entropy\",\"length_mean\",\"length_median\",\"circuity_avg\",\"prop_deadend\",\"prop_4way\",\"m\",\"n\",\"k_avg\",\"osmid_count\",\"area_mean\",\"elevation_iqr\",\"gradient_iqr\",\"ndwi_mean\",\"ndvi_mean\",\"night_stdDev\",\"night_mean\",\"day_stdDev\",\"day_mean\",\"fractal_buildings\",\"fractal_streets\",\"orientation_order\",\"orientation_entropy\",\"length_entropy_log\",\"length_entropy\",\"length_mean\",\"length_median\",\"circuity_avg\",\"prop_deadend\",\"prop_4way\",\"m\",\"n\",\"k_avg\",\"osmid_count\",\"area_mean\",\"elevation_iqr\",\"gradient_iqr\",\"ndwi_mean\",\"ndvi_mean\",\"night_stdDev\",\"night_mean\",\"day_stdDev\",\"day_mean\",\"fractal_buildings\",\"fractal_streets\",\"orientation_order\",\"orientation_entropy\",\"length_entropy_log\",\"length_entropy\",\"length_mean\",\"length_median\",\"circuity_avg\",\"prop_deadend\",\"prop_4way\",\"m\",\"n\",\"k_avg\",\"osmid_count\",\"area_mean\",\"elevation_iqr\",\"gradient_iqr\",\"ndwi_mean\",\"ndvi_mean\",\"night_stdDev\",\"night_mean\",\"day_stdDev\",\"day_mean\",\"fractal_buildings\",\"fractal_streets\",\"orientation_order\",\"orientation_entropy\",\"length_entropy_log\",\"length_entropy\",\"length_mean\",\"length_median\",\"circuity_avg\",\"prop_deadend\",\"prop_4way\",\"m\",\"n\",\"k_avg\",\"osmid_count\",\"area_mean\",\"elevation_iqr\",\"gradient_iqr\",\"ndwi_mean\",\"ndvi_mean\",\"night_stdDev\",\"night_mean\",\"day_stdDev\",\"day_mean\",\"fractal_buildings\",\"fractal_streets\",\"orientation_order\",\"orientation_entropy\",\"length_entropy_log\",\"length_entropy\",\"length_mean\",\"length_median\",\"circuity_avg\",\"prop_deadend\",\"prop_4way\",\"m\",\"n\",\"k_avg\",\"osmid_count\",\"area_mean\",\"elevation_iqr\",\"gradient_iqr\",\"ndwi_mean\",\"ndvi_mean\",\"night_stdDev\",\"night_mean\",\"day_stdDev\",\"day_mean\",\"fractal_buildings\",\"fractal_streets\",\"orientation_order\",\"orientation_entropy\",\"length_entropy_log\",\"length_entropy\",\"length_mean\",\"length_median\",\"circuity_avg\",\"prop_deadend\",\"prop_4way\",\"m\",\"n\",\"k_avg\",\"osmid_count\",\"area_mean\",\"elevation_iqr\",\"gradient_iqr\",\"ndwi_mean\",\"ndvi_mean\",\"night_stdDev\",\"night_mean\",\"day_stdDev\",\"day_mean\",\"fractal_buildings\",\"fractal_streets\",\"orientation_order\",\"orientation_entropy\",\"length_entropy_log\",\"length_entropy\",\"length_mean\",\"length_median\",\"circuity_avg\",\"prop_deadend\",\"prop_4way\",\"m\",\"n\",\"k_avg\",\"osmid_count\",\"area_mean\",\"elevation_iqr\",\"gradient_iqr\",\"ndwi_mean\",\"ndvi_mean\",\"night_stdDev\",\"night_mean\",\"day_stdDev\",\"day_mean\",\"fractal_buildings\",\"fractal_streets\",\"orientation_order\",\"orientation_entropy\",\"length_entropy_log\",\"length_entropy\",\"length_mean\",\"length_median\",\"circuity_avg\",\"prop_deadend\",\"prop_4way\",\"m\",\"n\",\"k_avg\",\"osmid_count\",\"area_mean\",\"elevation_iqr\",\"gradient_iqr\",\"ndwi_mean\",\"ndvi_mean\",\"night_stdDev\",\"night_mean\",\"day_stdDev\",\"day_mean\",\"fractal_buildings\",\"fractal_streets\",\"orientation_order\",\"orientation_entropy\",\"length_entropy_log\",\"length_entropy\",\"length_mean\",\"length_median\",\"circuity_avg\",\"prop_deadend\",\"prop_4way\",\"m\",\"n\",\"k_avg\",\"osmid_count\",\"area_mean\",\"elevation_iqr\",\"gradient_iqr\",\"ndwi_mean\",\"ndvi_mean\",\"night_stdDev\",\"night_mean\",\"day_stdDev\",\"day_mean\",\"fractal_buildings\",\"fractal_streets\",\"orientation_order\",\"orientation_entropy\",\"length_entropy_log\",\"length_entropy\",\"length_mean\",\"length_median\",\"circuity_avg\",\"prop_deadend\",\"prop_4way\",\"m\",\"n\",\"k_avg\",\"osmid_count\",\"area_mean\",\"elevation_iqr\",\"gradient_iqr\",\"ndwi_mean\",\"ndvi_mean\",\"night_stdDev\",\"night_mean\",\"day_stdDev\",\"day_mean\",\"fractal_buildings\",\"fractal_streets\",\"orientation_order\",\"orientation_entropy\",\"length_entropy_log\",\"length_entropy\",\"length_mean\",\"length_median\",\"circuity_avg\",\"prop_deadend\",\"prop_4way\",\"m\",\"n\",\"k_avg\",\"osmid_count\",\"area_mean\",\"elevation_iqr\",\"gradient_iqr\",\"ndwi_mean\",\"ndvi_mean\",\"night_stdDev\",\"night_mean\",\"day_stdDev\",\"day_mean\",\"fractal_buildings\",\"fractal_streets\",\"orientation_order\",\"orientation_entropy\",\"length_entropy_log\",\"length_entropy\",\"length_mean\",\"length_median\",\"circuity_avg\",\"prop_deadend\",\"prop_4way\",\"m\",\"n\",\"k_avg\",\"osmid_count\",\"area_mean\",\"elevation_iqr\",\"gradient_iqr\",\"ndwi_mean\",\"ndvi_mean\",\"night_stdDev\",\"night_mean\",\"day_stdDev\",\"day_mean\",\"fractal_buildings\",\"fractal_streets\",\"orientation_order\",\"orientation_entropy\",\"length_entropy_log\",\"length_entropy\",\"length_mean\",\"length_median\",\"circuity_avg\",\"prop_deadend\",\"prop_4way\",\"m\",\"n\",\"k_avg\",\"osmid_count\",\"area_mean\",\"elevation_iqr\",\"gradient_iqr\",\"ndwi_mean\",\"ndvi_mean\",\"night_stdDev\",\"night_mean\",\"day_stdDev\",\"day_mean\",\"fractal_buildings\",\"fractal_streets\",\"orientation_order\",\"orientation_entropy\",\"length_entropy_log\",\"length_entropy\",\"length_mean\",\"length_median\",\"circuity_avg\",\"prop_deadend\",\"prop_4way\",\"m\",\"n\",\"k_avg\",\"osmid_count\",\"area_mean\",\"elevation_iqr\",\"gradient_iqr\",\"ndwi_mean\",\"ndvi_mean\",\"night_stdDev\",\"night_mean\",\"day_stdDev\",\"day_mean\",\"fractal_buildings\",\"fractal_streets\",\"orientation_order\",\"orientation_entropy\",\"length_entropy_log\",\"length_entropy\",\"length_mean\",\"length_median\",\"circuity_avg\",\"prop_deadend\",\"prop_4way\",\"m\",\"n\",\"k_avg\",\"osmid_count\",\"area_mean\",\"elevation_iqr\",\"gradient_iqr\",\"ndwi_mean\",\"ndvi_mean\",\"night_stdDev\",\"night_mean\",\"day_stdDev\",\"day_mean\",\"fractal_buildings\",\"fractal_streets\",\"orientation_order\",\"orientation_entropy\",\"length_entropy_log\",\"length_entropy\",\"length_mean\",\"length_median\",\"circuity_avg\",\"prop_deadend\",\"prop_4way\",\"m\",\"n\",\"k_avg\",\"osmid_count\",\"area_mean\",\"elevation_iqr\",\"gradient_iqr\",\"ndwi_mean\",\"ndvi_mean\",\"night_stdDev\",\"night_mean\",\"day_stdDev\",\"day_mean\",\"fractal_buildings\",\"fractal_streets\",\"orientation_order\",\"orientation_entropy\",\"length_entropy_log\",\"length_entropy\",\"length_mean\",\"length_median\",\"circuity_avg\",\"prop_deadend\",\"prop_4way\",\"m\",\"n\",\"k_avg\",\"osmid_count\",\"area_mean\",\"elevation_iqr\",\"gradient_iqr\",\"ndwi_mean\",\"ndvi_mean\",\"night_stdDev\",\"night_mean\",\"day_stdDev\",\"day_mean\",\"fractal_buildings\",\"fractal_streets\",\"orientation_order\",\"orientation_entropy\",\"length_entropy_log\",\"length_entropy\",\"length_mean\",\"length_median\",\"circuity_avg\",\"prop_deadend\",\"prop_4way\",\"m\",\"n\",\"k_avg\",\"osmid_count\",\"area_mean\",\"elevation_iqr\",\"gradient_iqr\",\"ndwi_mean\",\"ndvi_mean\",\"night_stdDev\",\"night_mean\",\"day_stdDev\",\"day_mean\",\"fractal_buildings\",\"fractal_streets\",\"orientation_order\",\"orientation_entropy\",\"length_entropy_log\",\"length_entropy\",\"length_mean\",\"length_median\",\"circuity_avg\",\"prop_deadend\",\"prop_4way\",\"m\",\"n\",\"k_avg\",\"osmid_count\",\"area_mean\",\"elevation_iqr\",\"gradient_iqr\",\"ndwi_mean\",\"ndvi_mean\",\"night_stdDev\",\"night_mean\",\"day_stdDev\",\"day_mean\",\"fractal_buildings\",\"fractal_streets\",\"orientation_order\",\"orientation_entropy\",\"length_entropy_log\",\"length_entropy\",\"length_mean\",\"length_median\",\"circuity_avg\",\"prop_deadend\",\"prop_4way\",\"m\",\"n\",\"k_avg\",\"osmid_count\",\"area_mean\",\"elevation_iqr\",\"gradient_iqr\"],\"reference\":[\"gradient_iqr\",\"gradient_iqr\",\"gradient_iqr\",\"gradient_iqr\",\"gradient_iqr\",\"gradient_iqr\",\"gradient_iqr\",\"gradient_iqr\",\"gradient_iqr\",\"gradient_iqr\",\"gradient_iqr\",\"gradient_iqr\",\"gradient_iqr\",\"gradient_iqr\",\"gradient_iqr\",\"gradient_iqr\",\"gradient_iqr\",\"gradient_iqr\",\"gradient_iqr\",\"gradient_iqr\",\"gradient_iqr\",\"gradient_iqr\",\"gradient_iqr\",\"gradient_iqr\",\"elevation_iqr\",\"elevation_iqr\",\"elevation_iqr\",\"elevation_iqr\",\"elevation_iqr\",\"elevation_iqr\",\"elevation_iqr\",\"elevation_iqr\",\"elevation_iqr\",\"elevation_iqr\",\"elevation_iqr\",\"elevation_iqr\",\"elevation_iqr\",\"elevation_iqr\",\"elevation_iqr\",\"elevation_iqr\",\"elevation_iqr\",\"elevation_iqr\",\"elevation_iqr\",\"elevation_iqr\",\"elevation_iqr\",\"elevation_iqr\",\"elevation_iqr\",\"elevation_iqr\",\"area_mean\",\"area_mean\",\"area_mean\",\"area_mean\",\"area_mean\",\"area_mean\",\"area_mean\",\"area_mean\",\"area_mean\",\"area_mean\",\"area_mean\",\"area_mean\",\"area_mean\",\"area_mean\",\"area_mean\",\"area_mean\",\"area_mean\",\"area_mean\",\"area_mean\",\"area_mean\",\"area_mean\",\"area_mean\",\"area_mean\",\"area_mean\",\"osmid_count\",\"osmid_count\",\"osmid_count\",\"osmid_count\",\"osmid_count\",\"osmid_count\",\"osmid_count\",\"osmid_count\",\"osmid_count\",\"osmid_count\",\"osmid_count\",\"osmid_count\",\"osmid_count\",\"osmid_count\",\"osmid_count\",\"osmid_count\",\"osmid_count\",\"osmid_count\",\"osmid_count\",\"osmid_count\",\"osmid_count\",\"osmid_count\",\"osmid_count\",\"osmid_count\",\"k_avg\",\"k_avg\",\"k_avg\",\"k_avg\",\"k_avg\",\"k_avg\",\"k_avg\",\"k_avg\",\"k_avg\",\"k_avg\",\"k_avg\",\"k_avg\",\"k_avg\",\"k_avg\",\"k_avg\",\"k_avg\",\"k_avg\",\"k_avg\",\"k_avg\",\"k_avg\",\"k_avg\",\"k_avg\",\"k_avg\",\"k_avg\",\"n\",\"n\",\"n\",\"n\",\"n\",\"n\",\"n\",\"n\",\"n\",\"n\",\"n\",\"n\",\"n\",\"n\",\"n\",\"n\",\"n\",\"n\",\"n\",\"n\",\"n\",\"n\",\"n\",\"n\",\"m\",\"m\",\"m\",\"m\",\"m\",\"m\",\"m\",\"m\",\"m\",\"m\",\"m\",\"m\",\"m\",\"m\",\"m\",\"m\",\"m\",\"m\",\"m\",\"m\",\"m\",\"m\",\"m\",\"m\",\"prop_4way\",\"prop_4way\",\"prop_4way\",\"prop_4way\",\"prop_4way\",\"prop_4way\",\"prop_4way\",\"prop_4way\",\"prop_4way\",\"prop_4way\",\"prop_4way\",\"prop_4way\",\"prop_4way\",\"prop_4way\",\"prop_4way\",\"prop_4way\",\"prop_4way\",\"prop_4way\",\"prop_4way\",\"prop_4way\",\"prop_4way\",\"prop_4way\",\"prop_4way\",\"prop_4way\",\"prop_deadend\",\"prop_deadend\",\"prop_deadend\",\"prop_deadend\",\"prop_deadend\",\"prop_deadend\",\"prop_deadend\",\"prop_deadend\",\"prop_deadend\",\"prop_deadend\",\"prop_deadend\",\"prop_deadend\",\"prop_deadend\",\"prop_deadend\",\"prop_deadend\",\"prop_deadend\",\"prop_deadend\",\"prop_deadend\",\"prop_deadend\",\"prop_deadend\",\"prop_deadend\",\"prop_deadend\",\"prop_deadend\",\"prop_deadend\",\"circuity_avg\",\"circuity_avg\",\"circuity_avg\",\"circuity_avg\",\"circuity_avg\",\"circuity_avg\",\"circuity_avg\",\"circuity_avg\",\"circuity_avg\",\"circuity_avg\",\"circuity_avg\",\"circuity_avg\",\"circuity_avg\",\"circuity_avg\",\"circuity_avg\",\"circuity_avg\",\"circuity_avg\",\"circuity_avg\",\"circuity_avg\",\"circuity_avg\",\"circuity_avg\",\"circuity_avg\",\"circuity_avg\",\"circuity_avg\",\"length_median\",\"length_median\",\"length_median\",\"length_median\",\"length_median\",\"length_median\",\"length_median\",\"length_median\",\"length_median\",\"length_median\",\"length_median\",\"length_median\",\"length_median\",\"length_median\",\"length_median\",\"length_median\",\"length_median\",\"length_median\",\"length_median\",\"length_median\",\"length_median\",\"length_median\",\"length_median\",\"length_median\",\"length_mean\",\"length_mean\",\"length_mean\",\"length_mean\",\"length_mean\",\"length_mean\",\"length_mean\",\"length_mean\",\"length_mean\",\"length_mean\",\"length_mean\",\"length_mean\",\"length_mean\",\"length_mean\",\"length_mean\",\"length_mean\",\"length_mean\",\"length_mean\",\"length_mean\",\"length_mean\",\"length_mean\",\"length_mean\",\"length_mean\",\"length_mean\",\"length_entropy\",\"length_entropy\",\"length_entropy\",\"length_entropy\",\"length_entropy\",\"length_entropy\",\"length_entropy\",\"length_entropy\",\"length_entropy\",\"length_entropy\",\"length_entropy\",\"length_entropy\",\"length_entropy\",\"length_entropy\",\"length_entropy\",\"length_entropy\",\"length_entropy\",\"length_entropy\",\"length_entropy\",\"length_entropy\",\"length_entropy\",\"length_entropy\",\"length_entropy\",\"length_entropy\",\"length_entropy_log\",\"length_entropy_log\",\"length_entropy_log\",\"length_entropy_log\",\"length_entropy_log\",\"length_entropy_log\",\"length_entropy_log\",\"length_entropy_log\",\"length_entropy_log\",\"length_entropy_log\",\"length_entropy_log\",\"length_entropy_log\",\"length_entropy_log\",\"length_entropy_log\",\"length_entropy_log\",\"length_entropy_log\",\"length_entropy_log\",\"length_entropy_log\",\"length_entropy_log\",\"length_entropy_log\",\"length_entropy_log\",\"length_entropy_log\",\"length_entropy_log\",\"length_entropy_log\",\"orientation_entropy\",\"orientation_entropy\",\"orientation_entropy\",\"orientation_entropy\",\"orientation_entropy\",\"orientation_entropy\",\"orientation_entropy\",\"orientation_entropy\",\"orientation_entropy\",\"orientation_entropy\",\"orientation_entropy\",\"orientation_entropy\",\"orientation_entropy\",\"orientation_entropy\",\"orientation_entropy\",\"orientation_entropy\",\"orientation_entropy\",\"orientation_entropy\",\"orientation_entropy\",\"orientation_entropy\",\"orientation_entropy\",\"orientation_entropy\",\"orientation_entropy\",\"orientation_entropy\",\"orientation_order\",\"orientation_order\",\"orientation_order\",\"orientation_order\",\"orientation_order\",\"orientation_order\",\"orientation_order\",\"orientation_order\",\"orientation_order\",\"orientation_order\",\"orientation_order\",\"orientation_order\",\"orientation_order\",\"orientation_order\",\"orientation_order\",\"orientation_order\",\"orientation_order\",\"orientation_order\",\"orientation_order\",\"orientation_order\",\"orientation_order\",\"orientation_order\",\"orientation_order\",\"orientation_order\",\"fractal_streets\",\"fractal_streets\",\"fractal_streets\",\"fractal_streets\",\"fractal_streets\",\"fractal_streets\",\"fractal_streets\",\"fractal_streets\",\"fractal_streets\",\"fractal_streets\",\"fractal_streets\",\"fractal_streets\",\"fractal_streets\",\"fractal_streets\",\"fractal_streets\",\"fractal_streets\",\"fractal_streets\",\"fractal_streets\",\"fractal_streets\",\"fractal_streets\",\"fractal_streets\",\"fractal_streets\",\"fractal_streets\",\"fractal_streets\",\"fractal_buildings\",\"fractal_buildings\",\"fractal_buildings\",\"fractal_buildings\",\"fractal_buildings\",\"fractal_buildings\",\"fractal_buildings\",\"fractal_buildings\",\"fractal_buildings\",\"fractal_buildings\",\"fractal_buildings\",\"fractal_buildings\",\"fractal_buildings\",\"fractal_buildings\",\"fractal_buildings\",\"fractal_buildings\",\"fractal_buildings\",\"fractal_buildings\",\"fractal_buildings\",\"fractal_buildings\",\"fractal_buildings\",\"fractal_buildings\",\"fractal_buildings\",\"fractal_buildings\",\"day_mean\",\"day_mean\",\"day_mean\",\"day_mean\",\"day_mean\",\"day_mean\",\"day_mean\",\"day_mean\",\"day_mean\",\"day_mean\",\"day_mean\",\"day_mean\",\"day_mean\",\"day_mean\",\"day_mean\",\"day_mean\",\"day_mean\",\"day_mean\",\"day_mean\",\"day_mean\",\"day_mean\",\"day_mean\",\"day_mean\",\"day_mean\",\"day_stdDev\",\"day_stdDev\",\"day_stdDev\",\"day_stdDev\",\"day_stdDev\",\"day_stdDev\",\"day_stdDev\",\"day_stdDev\",\"day_stdDev\",\"day_stdDev\",\"day_stdDev\",\"day_stdDev\",\"day_stdDev\",\"day_stdDev\",\"day_stdDev\",\"day_stdDev\",\"day_stdDev\",\"day_stdDev\",\"day_stdDev\",\"day_stdDev\",\"day_stdDev\",\"day_stdDev\",\"day_stdDev\",\"day_stdDev\",\"night_mean\",\"night_mean\",\"night_mean\",\"night_mean\",\"night_mean\",\"night_mean\",\"night_mean\",\"night_mean\",\"night_mean\",\"night_mean\",\"night_mean\",\"night_mean\",\"night_mean\",\"night_mean\",\"night_mean\",\"night_mean\",\"night_mean\",\"night_mean\",\"night_mean\",\"night_mean\",\"night_mean\",\"night_mean\",\"night_mean\",\"night_mean\",\"night_stdDev\",\"night_stdDev\",\"night_stdDev\",\"night_stdDev\",\"night_stdDev\",\"night_stdDev\",\"night_stdDev\",\"night_stdDev\",\"night_stdDev\",\"night_stdDev\",\"night_stdDev\",\"night_stdDev\",\"night_stdDev\",\"night_stdDev\",\"night_stdDev\",\"night_stdDev\",\"night_stdDev\",\"night_stdDev\",\"night_stdDev\",\"night_stdDev\",\"night_stdDev\",\"night_stdDev\",\"night_stdDev\",\"night_stdDev\",\"ndvi_mean\",\"ndvi_mean\",\"ndvi_mean\",\"ndvi_mean\",\"ndvi_mean\",\"ndvi_mean\",\"ndvi_mean\",\"ndvi_mean\",\"ndvi_mean\",\"ndvi_mean\",\"ndvi_mean\",\"ndvi_mean\",\"ndvi_mean\",\"ndvi_mean\",\"ndvi_mean\",\"ndvi_mean\",\"ndvi_mean\",\"ndvi_mean\",\"ndvi_mean\",\"ndvi_mean\",\"ndvi_mean\",\"ndvi_mean\",\"ndvi_mean\",\"ndvi_mean\",\"ndwi_mean\",\"ndwi_mean\",\"ndwi_mean\",\"ndwi_mean\",\"ndwi_mean\",\"ndwi_mean\",\"ndwi_mean\",\"ndwi_mean\",\"ndwi_mean\",\"ndwi_mean\",\"ndwi_mean\",\"ndwi_mean\",\"ndwi_mean\",\"ndwi_mean\",\"ndwi_mean\",\"ndwi_mean\",\"ndwi_mean\",\"ndwi_mean\",\"ndwi_mean\",\"ndwi_mean\",\"ndwi_mean\",\"ndwi_mean\",\"ndwi_mean\",\"ndwi_mean\"],\"value\":[\"0.16823\",\"0.1373\",\"0.13008\",\"0.059841\",\"0.090648\",\"0.11061\",\"0.097674\",\"0.22494\",\"-0.22429\",\"0.21936\",\"0.12284\",\"-0.2234\",\"-0.28989\",\"-0.29937\",\"-0.016346\",\"0.18399\",\"0.098327\",\"0.27442\",\"0.28897\",\"0.0070526\",\"-0.029039\",\"-0.076437\",\"0.66079\",\"1\",\"0.074236\",\"-0.093664\",\"0.16334\",\"0.16298\",\"0.095354\",\"0.092452\",\"0.040013\",\"0.1607\",\"-0.093835\",\"0.10753\",\"0.06775\",\"-0.11239\",\"-0.14492\",\"-0.13365\",\"0.0055911\",\"0.065765\",\"0.046931\",\"0.17033\",\"0.17496\",\"0.016533\",\"0.017559\",\"-0.0077172\",\"1\",\"0.66079\",\"0.01693\",\"-0.12821\",\"-0.018774\",\"-0.11796\",\"0.028699\",\"0.049037\",\"-0.32133\",\"-0.15376\",\"-0.0033214\",\"0.0022219\",\"-0.032385\",\"-0.066336\",\"0.20882\",\"0.11758\",\"0.23138\",\"-0.062096\",\"-0.048491\",\"-0.082387\",\"-0.089835\",\"-0.0070947\",\"-0.36768\",\"1\",\"-0.0077172\",\"-0.076437\",\"-0.032413\",\"-0.13461\",\"0.24351\",\"0.42246\",\"0.13956\",\"0.11898\",\"0.59586\",\"0.26895\",\"-0.02393\",\"0.024545\",\"0.07556\",\"0.015478\",\"-0.24467\",\"-0.22008\",\"-0.1638\",\"0.087565\",\"0.074099\",\"0.25143\",\"0.25632\",\"0.026297\",\"1\",\"-0.36768\",\"0.017559\",\"-0.029039\",\"0.12309\",\"-0.23533\",\"0.19028\",\"0.018129\",\"0.2776\",\"0.25792\",\"0.26211\",\"0.45563\",\"0.20268\",\"-0.2178\",\"-0.40025\",\"-0.25581\",\"-0.24713\",\"-0.17285\",\"-0.46291\",\"-0.82198\",\"0.90164\",\"0.45999\",\"0.38795\",\"1\",\"0.026297\",\"-0.0070947\",\"0.016533\",\"0.0070526\",\"0.2502\",\"-0.20887\",\"0.39733\",\"0.24988\",\"0.41399\",\"0.39726\",\"0.35634\",\"0.75213\",\"-0.024187\",\"0.038553\",\"-0.05033\",\"-0.50219\",\"-0.79974\",\"-0.73173\",\"-0.21548\",\"-0.037797\",\"0.42716\",\"0.99517\",\"1\",\"0.38795\",\"0.25632\",\"-0.089835\",\"0.17496\",\"0.28897\",\"0.25801\",\"-0.21338\",\"0.40162\",\"0.24508\",\"0.42633\",\"0.40585\",\"0.35984\",\"0.75573\",\"-0.0090986\",\"0.021167\",\"-0.073322\",\"-0.49539\",\"-0.78352\",\"-0.71822\",\"-0.24212\",\"-0.11268\",\"0.48562\",\"1\",\"0.99517\",\"0.45999\",\"0.25143\",\"-0.082387\",\"0.17033\",\"0.27442\",\"0.13422\",\"-0.25241\",\"0.22538\",\"0.077712\",\"0.30752\",\"0.29306\",\"0.27367\",\"0.42726\",\"0.23734\",\"-0.26308\",\"-0.48121\",\"-0.27807\",\"-0.26634\",\"-0.16214\",\"-0.59162\",\"-0.54051\",\"1\",\"0.48562\",\"0.42716\",\"0.90164\",\"0.074099\",\"-0.048491\",\"0.046931\",\"0.098327\",\"0.0044644\",\"0.13005\",\"-0.004228\",\"0.11254\",\"-0.087539\",\"-0.067432\",\"-0.12029\",\"-0.19439\",\"-0.13838\",\"0.14884\",\"0.31467\",\"0.034185\",\"-0.11518\",\"-0.13733\",\"0.25208\",\"1\",\"-0.54051\",\"-0.11268\",\"-0.037797\",\"-0.82198\",\"0.087565\",\"-0.062096\",\"0.065765\",\"0.18399\",\"-0.0019726\",\"0.18257\",\"-0.1797\",\"-0.15504\",\"-0.1922\",\"-0.18713\",\"-0.14332\",\"-0.19308\",\"-0.34612\",\"0.36177\",\"0.37617\",\"-0.099425\",\"0.062105\",\"-0.10929\",\"1\",\"0.25208\",\"-0.59162\",\"-0.24212\",\"-0.21548\",\"-0.46291\",\"-0.1638\",\"0.23138\",\"0.0055911\",\"-0.016346\",\"-0.26743\",\"0.077962\",\"-0.31851\",\"-0.1776\",\"-0.32089\",\"-0.29141\",\"-0.33121\",\"-0.64637\",\"0.14925\",\"-0.16999\",\"-0.3141\",\"0.48874\",\"0.93723\",\"1\",\"-0.10929\",\"-0.13733\",\"-0.16214\",\"-0.71822\",\"-0.73173\",\"-0.17285\",\"-0.22008\",\"0.11758\",\"-0.13365\",\"-0.29937\",\"-0.25779\",\"0.16186\",\"-0.35134\",\"-0.21567\",\"-0.33606\",\"-0.31574\",\"-0.38603\",\"-0.7248\",\"0.042698\",\"-0.0644\",\"-0.16871\",\"0.46719\",\"1\",\"0.93723\",\"0.062105\",\"-0.11518\",\"-0.26634\",\"-0.78352\",\"-0.79974\",\"-0.24713\",\"-0.24467\",\"0.20882\",\"-0.14492\",\"-0.28989\",\"-0.13636\",\"0.22072\",\"-0.23864\",\"-0.012103\",\"-0.27194\",\"-0.28096\",\"-0.23567\",\"-0.50433\",\"0.21616\",\"-0.21637\",\"0.27011\",\"1\",\"0.46719\",\"0.48874\",\"-0.099425\",\"0.034185\",\"-0.27807\",\"-0.49539\",\"-0.50219\",\"-0.25581\",\"0.015478\",\"-0.066336\",\"-0.11239\",\"-0.2234\",\"0.13651\",\"0.2157\",\"0.0084789\",\"0.031416\",\"-0.039583\",\"-0.051791\",\"-0.040612\",\"-0.091554\",\"-0.31759\",\"0.36034\",\"1\",\"0.27011\",\"-0.16871\",\"-0.3141\",\"0.37617\",\"0.31467\",\"-0.48121\",\"-0.073322\",\"-0.05033\",\"-0.40025\",\"0.07556\",\"-0.032385\",\"0.06775\",\"0.12284\",\"0.078056\",\"0.175\",\"0.11305\",\"0.070184\",\"0.060414\",\"0.074871\",\"0.099982\",\"0.077882\",\"-0.98464\",\"1\",\"0.36034\",\"-0.21637\",\"-0.0644\",\"-0.16999\",\"0.36177\",\"0.14884\",\"-0.26308\",\"0.021167\",\"0.038553\",\"-0.2178\",\"0.024545\",\"0.0022219\",\"0.10753\",\"0.21936\",\"-0.07135\",\"-0.17008\",\"-0.11283\",\"-0.082503\",\"-0.066358\",\"-0.07847\",\"-0.092944\",\"-0.064857\",\"1\",\"-0.98464\",\"-0.31759\",\"0.21616\",\"0.042698\",\"0.14925\",\"-0.34612\",\"-0.13838\",\"0.23734\",\"-0.0090986\",\"-0.024187\",\"0.20268\",\"-0.02393\",\"-0.0033214\",\"-0.093835\",\"-0.22429\",\"0.14109\",\"-0.31325\",\"0.38414\",\"0.25972\",\"0.39481\",\"0.36692\",\"0.51394\",\"1\",\"-0.064857\",\"0.077882\",\"-0.091554\",\"-0.50433\",\"-0.7248\",\"-0.64637\",\"-0.19308\",\"-0.19439\",\"0.42726\",\"0.75573\",\"0.75213\",\"0.45563\",\"0.26895\",\"-0.15376\",\"0.1607\",\"0.22494\",\"0.069275\",\"-0.16887\",\"0.32311\",\"0.22427\",\"0.28872\",\"0.26173\",\"1\",\"0.51394\",\"-0.092944\",\"0.099982\",\"-0.040612\",\"-0.23567\",\"-0.38603\",\"-0.33121\",\"-0.14332\",\"-0.12029\",\"0.27367\",\"0.35984\",\"0.35634\",\"0.26211\",\"0.59586\",\"-0.32133\",\"0.040013\",\"0.097674\",\"0.034423\",\"-0.37663\",\"0.78604\",\"0.56885\",\"0.93453\",\"1\",\"0.26173\",\"0.36692\",\"-0.07847\",\"0.074871\",\"-0.051791\",\"-0.28096\",\"-0.31574\",\"-0.29141\",\"-0.18713\",\"-0.067432\",\"0.29306\",\"0.40585\",\"0.39726\",\"0.25792\",\"0.11898\",\"0.049037\",\"0.092452\",\"0.11061\",\"-0.010929\",\"-0.37647\",\"0.77527\",\"0.57532\",\"1\",\"0.93453\",\"0.28872\",\"0.39481\",\"-0.066358\",\"0.060414\",\"-0.039583\",\"-0.27194\",\"-0.33606\",\"-0.32089\",\"-0.1922\",\"-0.087539\",\"0.30752\",\"0.42633\",\"0.41399\",\"0.2776\",\"0.13956\",\"0.028699\",\"0.095354\",\"0.090648\",\"-0.11698\",\"-0.37187\",\"0.78145\",\"1\",\"0.57532\",\"0.56885\",\"0.22427\",\"0.25972\",\"-0.082503\",\"0.070184\",\"0.031416\",\"-0.012103\",\"-0.21567\",\"-0.1776\",\"-0.15504\",\"0.11254\",\"0.077712\",\"0.24508\",\"0.24988\",\"0.018129\",\"0.42246\",\"-0.11796\",\"0.16298\",\"0.059841\",\"-0.014539\",\"-0.43576\",\"1\",\"0.78145\",\"0.77527\",\"0.78604\",\"0.32311\",\"0.38414\",\"-0.11283\",\"0.11305\",\"0.0084789\",\"-0.23864\",\"-0.35134\",\"-0.31851\",\"-0.1797\",\"-0.004228\",\"0.22538\",\"0.40162\",\"0.39733\",\"0.19028\",\"0.24351\",\"-0.018774\",\"0.16334\",\"0.13008\",\"0.27835\",\"1\",\"-0.43576\",\"-0.37187\",\"-0.37647\",\"-0.37663\",\"-0.16887\",\"-0.31325\",\"-0.17008\",\"0.175\",\"0.2157\",\"0.22072\",\"0.16186\",\"0.077962\",\"0.18257\",\"0.13005\",\"-0.25241\",\"-0.21338\",\"-0.20887\",\"-0.23533\",\"-0.13461\",\"-0.12821\",\"-0.093664\",\"0.1373\",\"1\",\"0.27835\",\"-0.014539\",\"-0.11698\",\"-0.010929\",\"0.034423\",\"0.069275\",\"0.14109\",\"-0.07135\",\"0.078056\",\"0.13651\",\"-0.13636\",\"-0.25779\",\"-0.26743\",\"-0.0019726\",\"0.0044644\",\"0.13422\",\"0.25801\",\"0.2502\",\"0.12309\",\"-0.032413\",\"0.01693\",\"0.074236\",\"0.16823\"],\"zvalues\":{\"__ndarray__\":\"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\",\"dtype\":\"float64\",\"order\":\"little\",\"shape\":[576]}},\"selected\":{\"id\":\"2620\"},\"selection_policy\":{\"id\":\"2640\"}},\"id\":\"2619\",\"type\":\"ColumnDataSource\"},{\"attributes\":{},\"id\":\"2603\",\"type\":\"CategoricalTicker\"},{\"attributes\":{},\"id\":\"2630\",\"type\":\"CategoricalTickFormatter\"},{\"attributes\":{},\"id\":\"2607\",\"type\":\"WheelZoomTool\"},{\"attributes\":{},\"id\":\"2606\",\"type\":\"PanTool\"},{\"attributes\":{\"source\":{\"id\":\"2619\"}},\"id\":\"2626\",\"type\":\"CDSView\"},{\"attributes\":{},\"id\":\"2605\",\"type\":\"SaveTool\"},{\"attributes\":{\"fill_color\":{\"field\":\"zvalues\",\"transform\":{\"id\":\"2618\"}},\"height\":{\"units\":\"data\",\"value\":1},\"line_alpha\":{\"value\":0},\"line_color\":{\"value\":\"#1f77b4\"},\"width\":{\"units\":\"data\",\"value\":1},\"x\":{\"field\":\"reference\"},\"y\":{\"field\":\"comparison\"}},\"id\":\"2624\",\"type\":\"Rect\"},{\"attributes\":{\"factors\":[\"ndwi_mean\",\"ndvi_mean\",\"night_stdDev\",\"night_mean\",\"day_stdDev\",\"day_mean\",\"fractal_buildings\",\"fractal_streets\",\"orientation_order\",\"orientation_entropy\",\"length_entropy_log\",\"length_entropy\",\"length_mean\",\"length_median\",\"circuity_avg\",\"prop_deadend\",\"prop_4way\",\"m\",\"n\",\"k_avg\",\"osmid_count\",\"area_mean\",\"elevation_iqr\",\"gradient_iqr\"],\"tags\":[[[\"comparison\",\"comparison\",null]]]},\"id\":\"2588\",\"type\":\"FactorRange\"},{\"attributes\":{\"overlay\":{\"id\":\"2610\"}},\"id\":\"2608\",\"type\":\"BoxZoomTool\"},{\"attributes\":{},\"id\":\"2620\",\"type\":\"Selection\"},{\"attributes\":{},\"id\":\"2609\",\"type\":\"ResetTool\"},{\"attributes\":{\"fill_alpha\":{\"value\":0.1},\"fill_color\":{\"field\":\"zvalues\",\"transform\":{\"id\":\"2618\"}},\"height\":{\"units\":\"data\",\"value\":1},\"line_alpha\":{\"value\":0},\"line_color\":{\"value\":\"#1f77b4\"},\"width\":{\"units\":\"data\",\"value\":1},\"x\":{\"field\":\"reference\"},\"y\":{\"field\":\"comparison\"}},\"id\":\"2623\",\"type\":\"Rect\"},{\"attributes\":{\"margin\":[5,5,5,5],\"name\":\"HSpacer06474\",\"sizing_mode\":\"stretch_width\"},\"id\":\"2652\",\"type\":\"Spacer\"},{\"attributes\":{},\"id\":\"2627\",\"type\":\"BasicTicker\"},{\"attributes\":{\"margin\":[5,5,5,5],\"name\":\"HSpacer06473\",\"sizing_mode\":\"stretch_width\"},\"id\":\"2586\",\"type\":\"Spacer\"},{\"attributes\":{\"factors\":[\"gradient_iqr\",\"elevation_iqr\",\"area_mean\",\"osmid_count\",\"k_avg\",\"n\",\"m\",\"prop_4way\",\"prop_deadend\",\"circuity_avg\",\"length_median\",\"length_mean\",\"length_entropy\",\"length_entropy_log\",\"orientation_entropy\",\"orientation_order\",\"fractal_streets\",\"fractal_buildings\",\"day_mean\",\"day_stdDev\",\"night_mean\",\"night_stdDev\",\"ndvi_mean\",\"ndwi_mean\"],\"tags\":[[[\"reference\",\"reference\",null]]]},\"id\":\"2587\",\"type\":\"FactorRange\"},{\"attributes\":{},\"id\":\"2640\",\"type\":\"UnionRenderers\"},{\"attributes\":{},\"id\":\"2597\",\"type\":\"CategoricalScale\"},{\"attributes\":{\"children\":[{\"id\":\"2586\"},{\"id\":\"2590\"},{\"id\":\"2652\"}],\"margin\":[0,0,0,0],\"name\":\"Row06469\",\"tags\":[\"embedded\"]},\"id\":\"2585\",\"type\":\"Row\"},{\"attributes\":{\"fill_color\":{\"field\":\"zvalues\",\"transform\":{\"id\":\"2618\"}},\"height\":{\"units\":\"data\",\"value\":1},\"line_alpha\":{\"value\":0},\"line_color\":{\"value\":\"#1f77b4\"},\"width\":{\"units\":\"data\",\"value\":1},\"x\":{\"field\":\"reference\"},\"y\":{\"field\":\"comparison\"}},\"id\":\"2622\",\"type\":\"Rect\"},{\"attributes\":{\"active_drag\":\"auto\",\"active_inspect\":\"auto\",\"active_multi\":null,\"active_scroll\":\"auto\",\"active_tap\":\"auto\",\"tools\":[{\"id\":\"2589\"},{\"id\":\"2605\"},{\"id\":\"2606\"},{\"id\":\"2607\"},{\"id\":\"2608\"},{\"id\":\"2609\"}]},\"id\":\"2611\",\"type\":\"Toolbar\"},{\"attributes\":{\"bounds\":\"auto\",\"formatter\":{\"id\":\"2630\"},\"major_label_orientation\":1.5707963267948966,\"ticker\":{\"id\":\"2600\"}},\"id\":\"2599\",\"type\":\"CategoricalAxis\"},{\"attributes\":{\"bar_line_color\":\"black\",\"color_mapper\":{\"id\":\"2618\"},\"formatter\":{\"id\":\"2639\"},\"label_standoff\":8,\"location\":[0,0],\"major_tick_line_color\":\"black\",\"ticker\":{\"id\":\"2627\"}},\"id\":\"2628\",\"type\":\"ColorBar\"},{\"attributes\":{},\"id\":\"2632\",\"type\":\"CategoricalTickFormatter\"},{\"attributes\":{\"high\":1,\"low\":-1,\"nan_color\":\"white\",\"palette\":[\"#000458\",\"#00055a\",\"#00055c\",\"#00065f\",\"#000761\",\"#000764\",\"#000866\",\"#000868\",\"#00086b\",\"#00096d\",\"#00096f\",\"#000972\",\"#000974\",\"#000a77\",\"#000a79\",\"#000a7b\",\"#000b7e\",\"#000b80\",\"#000b83\",\"#000b85\",\"#000c88\",\"#000c8a\",\"#000c8d\",\"#000d8f\",\"#000d92\",\"#000d94\",\"#000e97\",\"#000e99\",\"#000e9c\",\"#000f9e\",\"#000fa1\",\"#000fa3\",\"#0010a6\",\"#0010a8\",\"#0010ab\",\"#0011ad\",\"#0011b0\",\"#0011b2\",\"#0012b5\",\"#0012b7\",\"#0013ba\",\"#0013bc\",\"#0013bf\",\"#0014c1\",\"#0014c4\",\"#0015c6\",\"#0015c8\",\"#0016cb\",\"#0016cd\",\"#0016cf\",\"#0017d1\",\"#0017d3\",\"#0017d5\",\"#0018d7\",\"#0018d9\",\"#0019db\",\"#0019dd\",\"#0019df\",\"#0019e1\",\"#001ae2\",\"#001ae4\",\"#001ae6\",\"#001be7\",\"#001be9\",\"#001bea\",\"#001beb\",\"#001ced\",\"#001cee\",\"#001cef\",\"#001cf0\",\"#001df2\",\"#001df3\",\"#001df4\",\"#001df5\",\"#001df6\",\"#001ef7\",\"#001ef7\",\"#001ef8\",\"#001ef9\",\"#001efa\",\"#001efb\",\"#001efb\",\"#001ffc\",\"#0a1ffd\",\"#181ffd\",\"#211ffe\",\"#291ffe\",\"#2f1fff\",\"#351fff\",\"#3b1fff\",\"#401fff\",\"#451fff\",\"#491fff\",\"#4e1fff\",\"#521fff\",\"#561fff\",\"#5a1fff\",\"#5e1fff\",\"#621fff\",\"#651fff\",\"#691fff\",\"#6c1fff\",\"#701fff\",\"#731fff\",\"#771fff\",\"#7a1eff\",\"#7d1eff\",\"#801eff\",\"#831eff\",\"#861eff\",\"#891eff\",\"#8c1eff\",\"#8f1eff\",\"#911eff\",\"#941eff\",\"#971eff\",\"#9a1eff\",\"#9c1eff\",\"#9f1eff\",\"#a11eff\",\"#a41eff\",\"#a71eff\",\"#a91eff\",\"#ac1eff\",\"#ae1eff\",\"#b11eff\",\"#b31eff\",\"#b51eff\",\"#b81eff\",\"#ba1eff\",\"#bd1eff\",\"#bf1eff\",\"#c11eff\",\"#c31fff\",\"#c51fff\",\"#c820ff\",\"#ca21ff\",\"#cc21ff\",\"#ce22ff\",\"#d023ff\",\"#d124ff\",\"#d325ff\",\"#d526ff\",\"#d727ff\",\"#d928ff\",\"#da29ff\",\"#dc2bff\",\"#de2cff\",\"#df2dff\",\"#e12fff\",\"#e330ff\",\"#e432ff\",\"#e633ff\",\"#e735ff\",\"#e836ff\",\"#ea38ff\",\"#eb39ff\",\"#ec3bff\",\"#ee3dff\",\"#ef3fff\",\"#f040ff\",\"#f142ff\",\"#f244ff\",\"#f346ff\",\"#f448ff\",\"#f54aff\",\"#f64cff\",\"#f74eff\",\"#f850ff\",\"#f952ff\",\"#f954ff\",\"#fa56ff\",\"#fb58ff\",\"#fb5aff\",\"#fc5cff\",\"#fc5eff\",\"#fd60ff\",\"#fd62ff\",\"#fe64ff\",\"#fe67ff\",\"#fe69ff\",\"#fe6bff\",\"#ff6dff\",\"#ff6fff\",\"#ff71ff\",\"#ff74ff\",\"#ff76ff\",\"#ff78ff\",\"#ff7aff\",\"#ff7cff\",\"#ff7eff\",\"#ff80ff\",\"#ff82ff\",\"#ff84ff\",\"#ff86ff\",\"#ff88ff\",\"#ff8aff\",\"#ff8cff\",\"#ff8eff\",\"#ff8fff\",\"#ff91ff\",\"#ff93ff\",\"#ff95ff\",\"#ff97ff\",\"#ff98ff\",\"#ff9aff\",\"#ff9cff\",\"#ff9eff\",\"#ff9fff\",\"#ffa1ff\",\"#ffa3ff\",\"#ffa5ff\",\"#ffa6ff\",\"#ffa8ff\",\"#ffaaff\",\"#ffabff\",\"#ffadff\",\"#ffafff\",\"#ffb0ff\",\"#ffb2ff\",\"#ffb4ff\",\"#ffb5ff\",\"#ffb7ff\",\"#ffb8ff\",\"#ffbaff\",\"#ffbcff\",\"#ffbdff\",\"#ffbfff\",\"#ffc0ff\",\"#ffc2ff\",\"#ffc4ff\",\"#ffc5ff\",\"#ffc7ff\",\"#ffc8ff\",\"#ffcaff\",\"#ffcbff\",\"#ffcdff\",\"#ffcfff\",\"#ffd0ff\",\"#ffd2ff\",\"#ffd3ff\",\"#ffd5ff\",\"#ffd6ff\",\"#ffd8ff\",\"#ffd9ff\",\"#ffdbff\",\"#ffddff\",\"#ffdefe\",\"#ffe0fe\",\"#ffe1fe\",\"#ffe3fe\",\"#fee4fe\",\"#fee6fe\",\"#fee7fe\",\"#fee9fe\",\"#feeafe\"]},\"id\":\"2618\",\"type\":\"LinearColorMapper\"},{\"attributes\":{\"callback\":null,\"renderers\":[{\"id\":\"2625\"}],\"tags\":[\"hv_created\"],\"tooltips\":[[\"reference\",\"@{reference}\"],[\"comparison\",\"@{comparison}\"],[\"value\",\"@{value}\"]]},\"id\":\"2589\",\"type\":\"HoverTool\"},{\"attributes\":{\"bottom_units\":\"screen\",\"fill_alpha\":0.5,\"fill_color\":\"lightgrey\",\"left_units\":\"screen\",\"level\":\"overlay\",\"line_alpha\":1.0,\"line_color\":\"black\",\"line_dash\":[4,4],\"line_width\":2,\"right_units\":\"screen\",\"top_units\":\"screen\"},\"id\":\"2610\",\"type\":\"BoxAnnotation\"},{\"attributes\":{},\"id\":\"2595\",\"type\":\"CategoricalScale\"}],\"root_ids\":[\"2585\"]},\"title\":\"Bokeh Application\",\"version\":\"2.2.3\"}};\n",
       "    var render_items = [{\"docid\":\"e79a3974-4d74-4604-ba21-84c2e882d1f3\",\"root_ids\":[\"2585\"],\"roots\":{\"2585\":\"474c6945-da95-41de-8aa0-5ae32a34f648\"}}];\n",
       "    root.Bokeh.embed.embed_items_notebook(docs_json, render_items);\n",
       "  }\n",
       "  if (root.Bokeh !== undefined && root.Bokeh.Panel !== undefined) {\n",
       "    embed_document(root);\n",
       "  } else {\n",
       "    var attempts = 0;\n",
       "    var timer = setInterval(function(root) {\n",
       "      if (root.Bokeh !== undefined && root.Bokeh.Panel !== undefined) {\n",
       "        clearInterval(timer);\n",
       "        embed_document(root);\n",
       "      } else if (document.readyState == \"complete\") {\n",
       "        attempts++;\n",
       "        if (attempts > 100) {\n",
       "          clearInterval(timer);\n",
       "          console.log(\"Bokeh: ERROR: Unable to run BokehJS code because BokehJS library is missing\");\n",
       "        }\n",
       "      }\n",
       "    }, 10, root)\n",
       "  }\n",
       "})(window);</script>"
      ],
      "text/plain": [
       ":HeatMap   [reference,comparison]   (value)"
      ]
     },
     "execution_count": 96,
     "metadata": {
      "application/vnd.holoviews_exec.v0+json": {
       "id": "2585"
      }
     },
     "output_type": "execute_result"
    }
   ],
   "source": [
    "heatmap"
   ]
  },
  {
   "cell_type": "code",
   "execution_count": 116,
   "metadata": {},
   "outputs": [],
   "source": [
    "indexing = measures[['fractal_streets', 'fractal_buildings', \n",
    "                     'ndvi_mean', 'ndwi_mean',\n",
    "                     'day_mean', 'night_mean', 'prop_4way', 'circuity_avg', 'orientation_entropy',\n",
    "                     'gradient_iqr',\n",
    "                     'area_mean', 'length_mean']].dropna()"
   ]
  },
  {
   "cell_type": "code",
   "execution_count": 117,
   "metadata": {},
   "outputs": [],
   "source": [
    "from sklearn.preprocessing import StandardScaler\n",
    "from sklearn.cluster import KMeans"
   ]
  },
  {
   "cell_type": "code",
   "execution_count": 118,
   "metadata": {},
   "outputs": [],
   "source": [
    "scaler = StandardScaler()\n",
    "scaled = scaler.fit_transform(indexing)"
   ]
  },
  {
   "cell_type": "code",
   "execution_count": 119,
   "metadata": {},
   "outputs": [],
   "source": [
    "kmeans = KMeans(n_clusters=5)\n",
    "kmeans.fit(scaled)\n",
    "           \n",
    "indexing['label'] = kmeans.labels_"
   ]
  },
  {
   "cell_type": "code",
   "execution_count": null,
   "metadata": {},
   "outputs": [],
   "source": []
  }
 ],
 "metadata": {
  "kernelspec": {
   "display_name": "Python 3",
   "language": "python",
   "name": "python3"
  },
  "language_info": {
   "codemirror_mode": {
    "name": "ipython",
    "version": 3
   },
   "file_extension": ".py",
   "mimetype": "text/x-python",
   "name": "python",
   "nbconvert_exporter": "python",
   "pygments_lexer": "ipython3",
   "version": "3.8.6"
  }
 },
 "nbformat": 4,
 "nbformat_minor": 4
}
